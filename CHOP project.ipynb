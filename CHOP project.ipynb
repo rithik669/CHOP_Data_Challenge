{
 "cells": [
  {
   "cell_type": "markdown",
   "id": "6836b354",
   "metadata": {},
   "source": [
    "# <font color=green>Data Excercise - Drug Overdose</font>"
   ]
  },
  {
   "cell_type": "markdown",
   "id": "1e3dc828",
   "metadata": {},
   "source": [
    "<font color=green>Getting Started- PART 1</font>"
   ]
  },
  {
   "cell_type": "code",
   "execution_count": 1,
   "id": "f45822b2",
   "metadata": {},
   "outputs": [],
   "source": [
    "#importing packages\n",
    "import pandas as pd\n",
    "import numpy as np\n",
    "import os\n",
    "\n",
    "#reading CSV files\n",
    "allergies_df=pd.read_csv('https://raw.githubusercontent.com/chop-analytics/analyst-take-home-task/master/datasets/allergies.csv')\n",
    "medications_df=pd.read_csv('https://raw.githubusercontent.com/chop-analytics/analyst-take-home-task/master/datasets/medications.csv')\n",
    "procedures_df=pd.read_csv('https://raw.githubusercontent.com/chop-analytics/analyst-take-home-task/master/datasets/procedures.csv')\n",
    "encounters_df=pd.read_csv('https://raw.githubusercontent.com/chop-analytics/analyst-take-home-task/master/datasets/encounters.csv')\n",
    "patients_df=pd.read_csv('https://raw.githubusercontent.com/chop-analytics/analyst-take-home-task/master/datasets/patients.csv')"
   ]
  },
  {
   "cell_type": "markdown",
   "id": "ed184831",
   "metadata": {},
   "source": [
    "<font color=green>Exploring Data and Joining</font>"
   ]
  },
  {
   "cell_type": "code",
   "execution_count": 2,
   "id": "6e0d6719",
   "metadata": {
    "scrolled": false
   },
   "outputs": [
    {
     "name": "stdout",
     "output_type": "stream",
     "text": [
      "<class 'pandas.core.frame.DataFrame'>\n",
      "RangeIndex: 11864 entries, 0 to 11863\n",
      "Data columns (total 20 columns):\n",
      " #   Column      Non-Null Count  Dtype  \n",
      "---  ------      --------------  -----  \n",
      " 0   Id          11864 non-null  object \n",
      " 1   BIRTHDATE   11864 non-null  object \n",
      " 2   DEATHDATE   1889 non-null   object \n",
      " 3   SSN         11864 non-null  object \n",
      " 4   DRIVERS     9883 non-null   object \n",
      " 5   PASSPORT    9329 non-null   object \n",
      " 6   PREFIX      9599 non-null   object \n",
      " 7   FIRST       11864 non-null  object \n",
      " 8   LAST        11864 non-null  object \n",
      " 9   SUFFIX      100 non-null    object \n",
      " 10  MAIDEN      3353 non-null   object \n",
      " 11  MARITAL     8329 non-null   object \n",
      " 12  RACE        11864 non-null  object \n",
      " 13  ETHNICITY   11864 non-null  object \n",
      " 14  GENDER      11864 non-null  object \n",
      " 15  BIRTHPLACE  11864 non-null  object \n",
      " 16  ADDRESS     11864 non-null  object \n",
      " 17  CITY        11864 non-null  object \n",
      " 18  STATE       11864 non-null  object \n",
      " 19  ZIP         6946 non-null   float64\n",
      "dtypes: float64(1), object(19)\n",
      "memory usage: 1.8+ MB\n"
     ]
    }
   ],
   "source": [
    "patients_df.info()"
   ]
  },
  {
   "cell_type": "code",
   "execution_count": 3,
   "id": "8593bf73",
   "metadata": {},
   "outputs": [
    {
     "name": "stdout",
     "output_type": "stream",
     "text": [
      "<class 'pandas.core.frame.DataFrame'>\n",
      "RangeIndex: 413298 entries, 0 to 413297\n",
      "Data columns (total 11 columns):\n",
      " #   Column             Non-Null Count   Dtype  \n",
      "---  ------             --------------   -----  \n",
      " 0   Id                 413298 non-null  object \n",
      " 1   START              413298 non-null  object \n",
      " 2   STOP               413298 non-null  object \n",
      " 3   PATIENT            413298 non-null  object \n",
      " 4   PROVIDER           413296 non-null  object \n",
      " 5   ENCOUNTERCLASS     413298 non-null  object \n",
      " 6   CODE               413297 non-null  float64\n",
      " 7   DESCRIPTION        413298 non-null  object \n",
      " 8   COST               413298 non-null  float64\n",
      " 9   REASONCODE         134681 non-null  float64\n",
      " 10  REASONDESCRIPTION  134681 non-null  object \n",
      "dtypes: float64(3), object(8)\n",
      "memory usage: 34.7+ MB\n"
     ]
    }
   ],
   "source": [
    "encounters_df.info()"
   ]
  },
  {
   "cell_type": "markdown",
   "id": "410766f4",
   "metadata": {},
   "source": [
    "<font color=green>After carefully viewing the data, It was decided to inner join the encounters and patients tables</font>"
   ]
  },
  {
   "cell_type": "code",
   "execution_count": 4,
   "id": "0def8ea5",
   "metadata": {},
   "outputs": [],
   "source": [
    "pat_encounter_df = pd.merge(encounters_df, patients_df, how=\"inner\", left_on= 'PATIENT', right_on= 'Id', suffixes=(\"_E\",\"_P\"))"
   ]
  },
  {
   "cell_type": "markdown",
   "id": "6bccf464",
   "metadata": {},
   "source": [
    "<font color=green> Exploring the joined data </font>"
   ]
  },
  {
   "cell_type": "code",
   "execution_count": 5,
   "id": "68602c9d",
   "metadata": {},
   "outputs": [
    {
     "name": "stdout",
     "output_type": "stream",
     "text": [
      "<class 'pandas.core.frame.DataFrame'>\n",
      "Int64Index: 413298 entries, 0 to 413297\n",
      "Data columns (total 31 columns):\n",
      " #   Column             Non-Null Count   Dtype  \n",
      "---  ------             --------------   -----  \n",
      " 0   Id_E               413298 non-null  object \n",
      " 1   START              413298 non-null  object \n",
      " 2   STOP               413298 non-null  object \n",
      " 3   PATIENT            413298 non-null  object \n",
      " 4   PROVIDER           413296 non-null  object \n",
      " 5   ENCOUNTERCLASS     413298 non-null  object \n",
      " 6   CODE               413297 non-null  float64\n",
      " 7   DESCRIPTION        413298 non-null  object \n",
      " 8   COST               413298 non-null  float64\n",
      " 9   REASONCODE         134681 non-null  float64\n",
      " 10  REASONDESCRIPTION  134681 non-null  object \n",
      " 11  Id_P               413298 non-null  object \n",
      " 12  BIRTHDATE          413298 non-null  object \n",
      " 13  DEATHDATE          99126 non-null   object \n",
      " 14  SSN                413298 non-null  object \n",
      " 15  DRIVERS            375928 non-null  object \n",
      " 16  PASSPORT           359146 non-null  object \n",
      " 17  PREFIX             367935 non-null  object \n",
      " 18  FIRST              413298 non-null  object \n",
      " 19  LAST               413298 non-null  object \n",
      " 20  SUFFIX             2728 non-null    object \n",
      " 21  MAIDEN             154517 non-null  object \n",
      " 22  MARITAL            327408 non-null  object \n",
      " 23  RACE               413298 non-null  object \n",
      " 24  ETHNICITY          413298 non-null  object \n",
      " 25  GENDER             413298 non-null  object \n",
      " 26  BIRTHPLACE         413298 non-null  object \n",
      " 27  ADDRESS            413298 non-null  object \n",
      " 28  CITY               413298 non-null  object \n",
      " 29  STATE              413298 non-null  object \n",
      " 30  ZIP                239288 non-null  float64\n",
      "dtypes: float64(4), object(27)\n",
      "memory usage: 100.9+ MB\n"
     ]
    }
   ],
   "source": [
    "pat_encounter_df.info()"
   ]
  },
  {
   "cell_type": "markdown",
   "id": "b9df9562",
   "metadata": {},
   "source": [
    "<font color=green>No Records were lost.Now let's combine the medications table for us to assemble the project Cohort.</font>"
   ]
  },
  {
   "cell_type": "code",
   "execution_count": 6,
   "id": "bda7192a",
   "metadata": {},
   "outputs": [
    {
     "name": "stdout",
     "output_type": "stream",
     "text": [
      "<class 'pandas.core.frame.DataFrame'>\n",
      "RangeIndex: 112270 entries, 0 to 112269\n",
      "Data columns (total 11 columns):\n",
      " #   Column             Non-Null Count   Dtype  \n",
      "---  ------             --------------   -----  \n",
      " 0   START              112270 non-null  object \n",
      " 1   STOP               92085 non-null   object \n",
      " 2   PATIENT            112270 non-null  object \n",
      " 3   ENCOUNTER          112270 non-null  object \n",
      " 4   CODE               112270 non-null  int64  \n",
      " 5   DESCRIPTION        112270 non-null  object \n",
      " 6   COST               112270 non-null  float64\n",
      " 7   DISPENSES          112270 non-null  int64  \n",
      " 8   TOTALCOST          112270 non-null  float64\n",
      " 9   REASONCODE         72813 non-null   float64\n",
      " 10  REASONDESCRIPTION  75227 non-null   object \n",
      "dtypes: float64(3), int64(2), object(6)\n",
      "memory usage: 9.4+ MB\n"
     ]
    }
   ],
   "source": [
    "medications_df.info()"
   ]
  },
  {
   "cell_type": "markdown",
   "id": "a609722c",
   "metadata": {},
   "source": [
    "<font color=green>The left join is performed to avoid losing the information of encounters/patients. The identifiers are used in suffixes to distinguish the same column names across the tables.</font>"
   ]
  },
  {
   "cell_type": "code",
   "execution_count": 7,
   "id": "376456c8",
   "metadata": {},
   "outputs": [],
   "source": [
    "pat_encounter_med_df = pd.merge(pat_encounter_df, medications_df, how=\"left\", left_on= ['Id_P','Id_E'], right_on= ['PATIENT','ENCOUNTER'], suffixes=(\"_E\",\"_M\"))"
   ]
  },
  {
   "cell_type": "markdown",
   "id": "63df0451",
   "metadata": {},
   "source": [
    "<font color=green>Converting the columns comprising of dates into a Date datatype.</font>"
   ]
  },
  {
   "cell_type": "code",
   "execution_count": 8,
   "id": "94f085d2",
   "metadata": {},
   "outputs": [],
   "source": [
    "pat_encounter_med_df['START_E'] = pd.to_datetime(pat_encounter_med_df['START_E'], format= '%Y-%m-%d')\n",
    "pat_encounter_med_df['STOP_E'] = pd.to_datetime(pat_encounter_med_df['STOP_E'], format= '%Y-%m-%d')\n",
    "pat_encounter_med_df['BIRTHDATE'] = pd.to_datetime(pat_encounter_med_df['BIRTHDATE'], format= '%Y-%m-%d')\n",
    "pat_encounter_med_df['DEATHDATE'] = pd.to_datetime(pat_encounter_med_df['DEATHDATE'], format= '%Y-%m-%d')\n",
    "pat_encounter_med_df['START_M'] = pd.to_datetime(pat_encounter_med_df['START_M'], format= '%Y-%m-%d')\n",
    "pat_encounter_med_df['STOP_M'] = pd.to_datetime(pat_encounter_med_df['STOP_M'], format= '%Y-%m-%d')"
   ]
  },
  {
   "cell_type": "markdown",
   "id": "ed9c4e19",
   "metadata": {},
   "source": [
    "<font color=green>Calculating the age at the time of encounter using the relativedelta package.</font>"
   ]
  },
  {
   "cell_type": "code",
   "execution_count": 9,
   "id": "679d16e5",
   "metadata": {},
   "outputs": [],
   "source": [
    "from dateutil.relativedelta import relativedelta\n",
    "pat_encounter_med_df['AGE'] = pat_encounter_med_df.apply(lambda x: relativedelta(x.START_E, x.BIRTHDATE).years, axis=1)"
   ]
  },
  {
   "cell_type": "markdown",
   "id": "030cb56f",
   "metadata": {},
   "source": [
    "<font color=green>Checking if it worked.</font>"
   ]
  },
  {
   "cell_type": "code",
   "execution_count": 10,
   "id": "15d308e5",
   "metadata": {},
   "outputs": [
    {
     "data": {
      "text/html": [
       "<div>\n",
       "<style scoped>\n",
       "    .dataframe tbody tr th:only-of-type {\n",
       "        vertical-align: middle;\n",
       "    }\n",
       "\n",
       "    .dataframe tbody tr th {\n",
       "        vertical-align: top;\n",
       "    }\n",
       "\n",
       "    .dataframe thead th {\n",
       "        text-align: right;\n",
       "    }\n",
       "</style>\n",
       "<table border=\"1\" class=\"dataframe\">\n",
       "  <thead>\n",
       "    <tr style=\"text-align: right;\">\n",
       "      <th></th>\n",
       "      <th>START_E</th>\n",
       "      <th>BIRTHDATE</th>\n",
       "      <th>AGE</th>\n",
       "    </tr>\n",
       "  </thead>\n",
       "  <tbody>\n",
       "    <tr>\n",
       "      <th>0</th>\n",
       "      <td>1959-06-18 09:43:49</td>\n",
       "      <td>1943-03-11</td>\n",
       "      <td>16</td>\n",
       "    </tr>\n",
       "    <tr>\n",
       "      <th>1</th>\n",
       "      <td>1963-09-26 09:43:49</td>\n",
       "      <td>1943-03-11</td>\n",
       "      <td>20</td>\n",
       "    </tr>\n",
       "    <tr>\n",
       "      <th>2</th>\n",
       "      <td>1971-12-30 09:43:49</td>\n",
       "      <td>1943-03-11</td>\n",
       "      <td>28</td>\n",
       "    </tr>\n",
       "    <tr>\n",
       "      <th>3</th>\n",
       "      <td>1975-01-02 09:43:49</td>\n",
       "      <td>1943-03-11</td>\n",
       "      <td>31</td>\n",
       "    </tr>\n",
       "    <tr>\n",
       "      <th>4</th>\n",
       "      <td>1983-03-01 09:43:49</td>\n",
       "      <td>1943-03-11</td>\n",
       "      <td>39</td>\n",
       "    </tr>\n",
       "    <tr>\n",
       "      <th>...</th>\n",
       "      <td>...</td>\n",
       "      <td>...</td>\n",
       "      <td>...</td>\n",
       "    </tr>\n",
       "    <tr>\n",
       "      <th>428227</th>\n",
       "      <td>2017-07-25 06:41:09</td>\n",
       "      <td>1931-08-21</td>\n",
       "      <td>85</td>\n",
       "    </tr>\n",
       "    <tr>\n",
       "      <th>428228</th>\n",
       "      <td>2018-02-23 06:41:09</td>\n",
       "      <td>1931-08-21</td>\n",
       "      <td>86</td>\n",
       "    </tr>\n",
       "    <tr>\n",
       "      <th>428229</th>\n",
       "      <td>2018-03-16 06:41:09</td>\n",
       "      <td>1931-08-21</td>\n",
       "      <td>86</td>\n",
       "    </tr>\n",
       "    <tr>\n",
       "      <th>428230</th>\n",
       "      <td>2019-02-23 06:41:09</td>\n",
       "      <td>1931-08-21</td>\n",
       "      <td>87</td>\n",
       "    </tr>\n",
       "    <tr>\n",
       "      <th>428231</th>\n",
       "      <td>2019-03-22 06:41:09</td>\n",
       "      <td>1931-08-21</td>\n",
       "      <td>87</td>\n",
       "    </tr>\n",
       "  </tbody>\n",
       "</table>\n",
       "<p>428232 rows × 3 columns</p>\n",
       "</div>"
      ],
      "text/plain": [
       "                   START_E  BIRTHDATE  AGE\n",
       "0      1959-06-18 09:43:49 1943-03-11   16\n",
       "1      1963-09-26 09:43:49 1943-03-11   20\n",
       "2      1971-12-30 09:43:49 1943-03-11   28\n",
       "3      1975-01-02 09:43:49 1943-03-11   31\n",
       "4      1983-03-01 09:43:49 1943-03-11   39\n",
       "...                    ...        ...  ...\n",
       "428227 2017-07-25 06:41:09 1931-08-21   85\n",
       "428228 2018-02-23 06:41:09 1931-08-21   86\n",
       "428229 2018-03-16 06:41:09 1931-08-21   86\n",
       "428230 2019-02-23 06:41:09 1931-08-21   87\n",
       "428231 2019-03-22 06:41:09 1931-08-21   87\n",
       "\n",
       "[428232 rows x 3 columns]"
      ]
     },
     "execution_count": 10,
     "metadata": {},
     "output_type": "execute_result"
    }
   ],
   "source": [
    "pat_encounter_med_df[['START_E','BIRTHDATE','AGE']]"
   ]
  },
  {
   "cell_type": "markdown",
   "id": "006e0637",
   "metadata": {},
   "source": [
    "<font color=green>It really did :) Now let's identify:</font>\n",
    "    \n",
    "<font color=green>1. The patients with age between 18 and 35 at the time of encounter.</font>\n",
    "<font color=green>2. The patient's visit is an encounter for drug overdose (Picked Drug rehabilitation and Detoxification)</font>\n",
    "<font color=green>3. The encounter occurs after july 15, 1999 </font>"
   ]
  },
  {
   "cell_type": "code",
   "execution_count": 11,
   "id": "1b7c7fbd",
   "metadata": {},
   "outputs": [],
   "source": [
    "#creating a function:\n",
    "def categorise(row):\n",
    "    if 18<= row['AGE'] <= 35 and row['START_E'] > pd.Timestamp(1999,7,15) and 'Drug' in row['DESCRIPTION_E']:\n",
    "        return 1\n",
    "    else:\n",
    "        return 0"
   ]
  },
  {
   "cell_type": "code",
   "execution_count": 12,
   "id": "44d5d4c2",
   "metadata": {},
   "outputs": [],
   "source": [
    "\n",
    "#creating a column that indicates the rows satisfying the condition using the lambda function. \n",
    "pat_encounter_med_df['PROJECT_COHORT'] = pat_encounter_med_df.apply(lambda row: categorise(row), axis=1) "
   ]
  },
  {
   "cell_type": "markdown",
   "id": "cdb768a2",
   "metadata": {},
   "source": [
    "<font color=green>Checking the number of rows that satisify the condition:</font>"
   ]
  },
  {
   "cell_type": "code",
   "execution_count": 13,
   "id": "e24dcc34",
   "metadata": {},
   "outputs": [
    {
     "data": {
      "text/plain": [
       "0    427958\n",
       "1       274\n",
       "Name: PROJECT_COHORT, dtype: int64"
      ]
     },
     "execution_count": 13,
     "metadata": {},
     "output_type": "execute_result"
    }
   ],
   "source": [
    "pat_encounter_med_df['PROJECT_COHORT'].value_counts()"
   ]
  },
  {
   "cell_type": "markdown",
   "id": "7ee76293",
   "metadata": {},
   "source": [
    "<font color=green>PART 2: Create additional fields</font>"
   ]
  },
  {
   "cell_type": "markdown",
   "id": "50c22b69",
   "metadata": {},
   "source": [
    "<font color=green>Just trying to get an idea on how the data is recorded for the project cohort. It is observed that not all records of project cohort have a death date. </font>"
   ]
  },
  {
   "cell_type": "code",
   "execution_count": 14,
   "id": "0b666713",
   "metadata": {
    "scrolled": true
   },
   "outputs": [
    {
     "data": {
      "text/html": [
       "<div>\n",
       "<style scoped>\n",
       "    .dataframe tbody tr th:only-of-type {\n",
       "        vertical-align: middle;\n",
       "    }\n",
       "\n",
       "    .dataframe tbody tr th {\n",
       "        vertical-align: top;\n",
       "    }\n",
       "\n",
       "    .dataframe thead th {\n",
       "        text-align: right;\n",
       "    }\n",
       "</style>\n",
       "<table border=\"1\" class=\"dataframe\">\n",
       "  <thead>\n",
       "    <tr style=\"text-align: right;\">\n",
       "      <th></th>\n",
       "      <th>Id_P</th>\n",
       "      <th>Id_E</th>\n",
       "      <th>BIRTHDATE</th>\n",
       "      <th>DEATHDATE</th>\n",
       "      <th>START_E</th>\n",
       "      <th>STOP_E</th>\n",
       "    </tr>\n",
       "  </thead>\n",
       "  <tbody>\n",
       "    <tr>\n",
       "      <th>366</th>\n",
       "      <td>708b81c9-21a9-411a-aae4-052ef8925b97</td>\n",
       "      <td>cc343294-f037-40c2-a02a-45c36654f268</td>\n",
       "      <td>1986-10-28</td>\n",
       "      <td>NaT</td>\n",
       "      <td>2010-05-18 21:50:51</td>\n",
       "      <td>2010-06-03 00:26:48</td>\n",
       "    </tr>\n",
       "    <tr>\n",
       "      <th>379</th>\n",
       "      <td>708b81c9-21a9-411a-aae4-052ef8925b97</td>\n",
       "      <td>bd39ae43-bc6a-404c-aad0-f65e128fa065</td>\n",
       "      <td>1986-10-28</td>\n",
       "      <td>NaT</td>\n",
       "      <td>2012-02-25 21:50:51</td>\n",
       "      <td>2012-03-03 22:39:33</td>\n",
       "    </tr>\n",
       "    <tr>\n",
       "      <th>381</th>\n",
       "      <td>708b81c9-21a9-411a-aae4-052ef8925b97</td>\n",
       "      <td>5e36b0f9-1a57-451e-a286-78b53a3f3312</td>\n",
       "      <td>1986-10-28</td>\n",
       "      <td>NaT</td>\n",
       "      <td>2012-10-06 21:50:51</td>\n",
       "      <td>2012-10-16 07:14:58</td>\n",
       "    </tr>\n",
       "    <tr>\n",
       "      <th>3257</th>\n",
       "      <td>65b093e4-b353-447a-b9ae-290567f1c950</td>\n",
       "      <td>2270fab4-a305-40cc-8501-e10bf1df3586</td>\n",
       "      <td>1995-12-03</td>\n",
       "      <td>NaT</td>\n",
       "      <td>2015-03-31 00:59:35</td>\n",
       "      <td>2015-04-05 20:59:01</td>\n",
       "    </tr>\n",
       "    <tr>\n",
       "      <th>7289</th>\n",
       "      <td>ad9e95d4-f88b-4544-b5c7-12087fe1fab0</td>\n",
       "      <td>e06a082a-d4e4-48f7-aeef-910bef3deacf</td>\n",
       "      <td>1976-11-04</td>\n",
       "      <td>NaT</td>\n",
       "      <td>2011-06-26 09:39:47</td>\n",
       "      <td>2011-07-02 20:36:52</td>\n",
       "    </tr>\n",
       "  </tbody>\n",
       "</table>\n",
       "</div>"
      ],
      "text/plain": [
       "                                      Id_P  \\\n",
       "366   708b81c9-21a9-411a-aae4-052ef8925b97   \n",
       "379   708b81c9-21a9-411a-aae4-052ef8925b97   \n",
       "381   708b81c9-21a9-411a-aae4-052ef8925b97   \n",
       "3257  65b093e4-b353-447a-b9ae-290567f1c950   \n",
       "7289  ad9e95d4-f88b-4544-b5c7-12087fe1fab0   \n",
       "\n",
       "                                      Id_E  BIRTHDATE DEATHDATE  \\\n",
       "366   cc343294-f037-40c2-a02a-45c36654f268 1986-10-28       NaT   \n",
       "379   bd39ae43-bc6a-404c-aad0-f65e128fa065 1986-10-28       NaT   \n",
       "381   5e36b0f9-1a57-451e-a286-78b53a3f3312 1986-10-28       NaT   \n",
       "3257  2270fab4-a305-40cc-8501-e10bf1df3586 1995-12-03       NaT   \n",
       "7289  e06a082a-d4e4-48f7-aeef-910bef3deacf 1976-11-04       NaT   \n",
       "\n",
       "                 START_E              STOP_E  \n",
       "366  2010-05-18 21:50:51 2010-06-03 00:26:48  \n",
       "379  2012-02-25 21:50:51 2012-03-03 22:39:33  \n",
       "381  2012-10-06 21:50:51 2012-10-16 07:14:58  \n",
       "3257 2015-03-31 00:59:35 2015-04-05 20:59:01  \n",
       "7289 2011-06-26 09:39:47 2011-07-02 20:36:52  "
      ]
     },
     "execution_count": 14,
     "metadata": {},
     "output_type": "execute_result"
    }
   ],
   "source": [
    "pat_encounter_med_df[(pat_encounter_med_df['PROJECT_COHORT']==1) & (pd.isnull(pat_encounter_med_df['DEATHDATE'])== True)][['Id_P','Id_E','BIRTHDATE','DEATHDATE','START_E','STOP_E']].head(5)"
   ]
  },
  {
   "cell_type": "code",
   "execution_count": 15,
   "id": "a262d798",
   "metadata": {},
   "outputs": [
    {
     "data": {
      "text/html": [
       "<div>\n",
       "<style scoped>\n",
       "    .dataframe tbody tr th:only-of-type {\n",
       "        vertical-align: middle;\n",
       "    }\n",
       "\n",
       "    .dataframe tbody tr th {\n",
       "        vertical-align: top;\n",
       "    }\n",
       "\n",
       "    .dataframe thead th {\n",
       "        text-align: right;\n",
       "    }\n",
       "</style>\n",
       "<table border=\"1\" class=\"dataframe\">\n",
       "  <thead>\n",
       "    <tr style=\"text-align: right;\">\n",
       "      <th></th>\n",
       "      <th>Id_P</th>\n",
       "      <th>Id_E</th>\n",
       "      <th>DEATHDATE</th>\n",
       "      <th>START_E</th>\n",
       "      <th>STOP_E</th>\n",
       "    </tr>\n",
       "  </thead>\n",
       "  <tbody>\n",
       "    <tr>\n",
       "      <th>44652</th>\n",
       "      <td>cb84e369-546c-490c-9ba0-84e83f7f2192</td>\n",
       "      <td>5c8e1503-12d3-4051-bef5-6e4826870109</td>\n",
       "      <td>2009-02-26</td>\n",
       "      <td>2001-10-10 16:14:45</td>\n",
       "      <td>2001-10-20 13:59:33</td>\n",
       "    </tr>\n",
       "    <tr>\n",
       "      <th>44656</th>\n",
       "      <td>cb84e369-546c-490c-9ba0-84e83f7f2192</td>\n",
       "      <td>821f77f3-c7de-4050-b875-f32cf61d80fa</td>\n",
       "      <td>2009-02-26</td>\n",
       "      <td>2002-11-15 16:14:45</td>\n",
       "      <td>2002-11-25 07:51:51</td>\n",
       "    </tr>\n",
       "    <tr>\n",
       "      <th>49556</th>\n",
       "      <td>c34b2366-9ba5-4575-bb37-915c98f3ef06</td>\n",
       "      <td>1cbad73d-8271-4883-82ec-234035d6346e</td>\n",
       "      <td>2017-08-17</td>\n",
       "      <td>2010-12-03 20:57:47</td>\n",
       "      <td>2010-12-10 10:53:37</td>\n",
       "    </tr>\n",
       "    <tr>\n",
       "      <th>49565</th>\n",
       "      <td>c34b2366-9ba5-4575-bb37-915c98f3ef06</td>\n",
       "      <td>bcb66f45-4029-48a8-b5d4-a9c12d8f4634</td>\n",
       "      <td>2017-08-17</td>\n",
       "      <td>2015-01-02 20:57:47</td>\n",
       "      <td>2015-01-14 09:22:36</td>\n",
       "    </tr>\n",
       "    <tr>\n",
       "      <th>49873</th>\n",
       "      <td>7cdbf215-8dce-4641-ae53-ea0f9a4c84f0</td>\n",
       "      <td>940f106e-c342-4352-ae26-52690f9b0d2c</td>\n",
       "      <td>2017-07-24</td>\n",
       "      <td>2010-11-25 20:57:47</td>\n",
       "      <td>2010-12-04 12:57:19</td>\n",
       "    </tr>\n",
       "  </tbody>\n",
       "</table>\n",
       "</div>"
      ],
      "text/plain": [
       "                                       Id_P  \\\n",
       "44652  cb84e369-546c-490c-9ba0-84e83f7f2192   \n",
       "44656  cb84e369-546c-490c-9ba0-84e83f7f2192   \n",
       "49556  c34b2366-9ba5-4575-bb37-915c98f3ef06   \n",
       "49565  c34b2366-9ba5-4575-bb37-915c98f3ef06   \n",
       "49873  7cdbf215-8dce-4641-ae53-ea0f9a4c84f0   \n",
       "\n",
       "                                       Id_E  DEATHDATE             START_E  \\\n",
       "44652  5c8e1503-12d3-4051-bef5-6e4826870109 2009-02-26 2001-10-10 16:14:45   \n",
       "44656  821f77f3-c7de-4050-b875-f32cf61d80fa 2009-02-26 2002-11-15 16:14:45   \n",
       "49556  1cbad73d-8271-4883-82ec-234035d6346e 2017-08-17 2010-12-03 20:57:47   \n",
       "49565  bcb66f45-4029-48a8-b5d4-a9c12d8f4634 2017-08-17 2015-01-02 20:57:47   \n",
       "49873  940f106e-c342-4352-ae26-52690f9b0d2c 2017-07-24 2010-11-25 20:57:47   \n",
       "\n",
       "                   STOP_E  \n",
       "44652 2001-10-20 13:59:33  \n",
       "44656 2002-11-25 07:51:51  \n",
       "49556 2010-12-10 10:53:37  \n",
       "49565 2015-01-14 09:22:36  \n",
       "49873 2010-12-04 12:57:19  "
      ]
     },
     "execution_count": 15,
     "metadata": {},
     "output_type": "execute_result"
    }
   ],
   "source": [
    "pat_encounter_med_df[(pat_encounter_med_df['PROJECT_COHORT']==1) & (pd.isnull(pat_encounter_med_df['DEATHDATE'])==False) ][['Id_P','Id_E','DEATHDATE','START_E','STOP_E']].head(5)"
   ]
  },
  {
   "cell_type": "markdown",
   "id": "7c84df12",
   "metadata": {},
   "source": [
    "<font color=green>Writing a function that returns 1 if the patient dies during the drug overdose encounter and 0 if the patient died at a different time. The function return null if the patient is not dead.</font>"
   ]
  },
  {
   "cell_type": "code",
   "execution_count": 16,
   "id": "5471236b",
   "metadata": {},
   "outputs": [],
   "source": [
    "def death_ind(row):\n",
    "    if pd.isnull(row['DEATHDATE'])== False:\n",
    "        if  row['START_E'] <= row['DEATHDATE']<= row['STOP_E'] and row['PROJECT_COHORT']==1:\n",
    "            return int(1)\n",
    "        else:\n",
    "            return int(0)\n",
    "    else:\n",
    "        return\n",
    "    "
   ]
  },
  {
   "cell_type": "markdown",
   "id": "81cfc835",
   "metadata": {},
   "source": [
    "<font color=green>Creating a new column the reflects the returned value from above function.</font>"
   ]
  },
  {
   "cell_type": "code",
   "execution_count": 17,
   "id": "33e9b86f",
   "metadata": {},
   "outputs": [],
   "source": [
    "pat_encounter_med_df['DEATH_AT_VISIT_IND'] = pat_encounter_med_df.apply(lambda row: death_ind(row), axis=1) "
   ]
  },
  {
   "cell_type": "code",
   "execution_count": 18,
   "id": "86f05b91",
   "metadata": {},
   "outputs": [
    {
     "data": {
      "text/plain": [
       "NaN    320764\n",
       "0.0    107468\n",
       "Name: DEATH_AT_VISIT_IND, dtype: int64"
      ]
     },
     "execution_count": 18,
     "metadata": {},
     "output_type": "execute_result"
    }
   ],
   "source": [
    "pat_encounter_med_df['DEATH_AT_VISIT_IND'].value_counts(dropna= False)"
   ]
  },
  {
   "cell_type": "markdown",
   "id": "913faa9f",
   "metadata": {},
   "source": [
    "<font color=green> It seems like there are no deaths during the drug overdose encounter. Converting 'DEATH_AT_VISIT_IND' into a int datatype.</font>"
   ]
  },
  {
   "cell_type": "code",
   "execution_count": 19,
   "id": "fb7f718a",
   "metadata": {},
   "outputs": [],
   "source": [
    "pat_encounter_med_df['DEATH_AT_VISIT_IND']=pat_encounter_med_df['DEATH_AT_VISIT_IND'].astype('Int64')"
   ]
  },
  {
   "cell_type": "code",
   "execution_count": 20,
   "id": "4c0417db",
   "metadata": {},
   "outputs": [
    {
     "data": {
      "text/plain": [
       "<NA>    320764\n",
       "0       107468\n",
       "Name: DEATH_AT_VISIT_IND, dtype: Int64"
      ]
     },
     "execution_count": 20,
     "metadata": {},
     "output_type": "execute_result"
    }
   ],
   "source": [
    "pat_encounter_med_df['DEATH_AT_VISIT_IND'].value_counts(dropna= False)"
   ]
  },
  {
   "cell_type": "markdown",
   "id": "c327da26",
   "metadata": {},
   "source": [
    "<font color=green>Finding out the count of active medications at the start of the drug overdose encounter.</font>"
   ]
  },
  {
   "cell_type": "code",
   "execution_count": 21,
   "id": "b9de3109",
   "metadata": {},
   "outputs": [],
   "source": [
    "#subsetting the project cohort from main dataframe.\n",
    "unique_patient_ids_df=pat_encounter_med_df[pat_encounter_med_df['PROJECT_COHORT']==1][['Id_P','Id_E','START_E', 'STOP_E']].drop_duplicates()"
   ]
  },
  {
   "cell_type": "code",
   "execution_count": 22,
   "id": "5904b38f",
   "metadata": {},
   "outputs": [
    {
     "name": "stdout",
     "output_type": "stream",
     "text": [
      "<class 'pandas.core.frame.DataFrame'>\n",
      "Int64Index: 274 entries, 366 to 423223\n",
      "Data columns (total 4 columns):\n",
      " #   Column   Non-Null Count  Dtype         \n",
      "---  ------   --------------  -----         \n",
      " 0   Id_P     274 non-null    object        \n",
      " 1   Id_E     274 non-null    object        \n",
      " 2   START_E  274 non-null    datetime64[ns]\n",
      " 3   STOP_E   274 non-null    datetime64[ns]\n",
      "dtypes: datetime64[ns](2), object(2)\n",
      "memory usage: 10.7+ KB\n"
     ]
    }
   ],
   "source": [
    "unique_patient_ids_df.info()"
   ]
  },
  {
   "cell_type": "code",
   "execution_count": 23,
   "id": "94be7a61",
   "metadata": {},
   "outputs": [
    {
     "data": {
      "text/plain": [
       "274"
      ]
     },
     "execution_count": 23,
     "metadata": {},
     "output_type": "execute_result"
    }
   ],
   "source": [
    "#creating a list of unique patients and their encounters for which the count of active medication needs to be determined.\n",
    "unique_patient_ids=unique_patient_ids_df.values.tolist()\n",
    "\n",
    "len(unique_patient_ids)"
   ]
  },
  {
   "cell_type": "markdown",
   "id": "ecf6ebb3",
   "metadata": {},
   "source": [
    "<font color=green> The following logic will determine the count of active medications and count of active opioids (if any) at the start of the drug overdose encounter for the cohort.  </font>"
   ]
  },
  {
   "cell_type": "code",
   "execution_count": 24,
   "id": "44fc41b6",
   "metadata": {
    "scrolled": true
   },
   "outputs": [
    {
     "name": "stdout",
     "output_type": "stream",
     "text": [
      "[3, 5, 5, 2, 7, 2, 4, 2, 2, 2, 5, 7, 2, 2, 0, 0, 11, 3, 3, 2, 2, 0, 1, 1, 2, 2, 2, 2, 2, 2, 1, 6, 13, 0, 5, 7, 2, 2, 4, 2, 2, 2, 3, 2, 4, 4, 4, 1, 6, 6, 4, 2, 2, 2, 4, 8, 8, 2, 5, 9, 3, 2, 2, 4, 4, 4, 2, 2, 4, 7, 7, 8, 3, 2, 2, 5, 7, 3, 3, 3, 2, 3, 4, 5, 8, 2, 2, 5, 5, 2, 2, 2, 2, 3, 7, 7, 7, 7, 2, 2, 15, 16, 2, 4, 5, 6, 6, 2, 5, 2, 7, 2, 3, 3, 2, 2, 2, 2, 7, 2, 6, 5, 6, 4, 2, 4, 4, 4, 4, 4, 2, 2, 2, 2, 2, 4, 4, 2, 2, 2, 5, 2, 2, 2, 2, 2, 7, 5, 2, 1, 2, 2, 5, 8, 1, 2, 5, 7, 4, 5, 2, 4, 2, 2, 2, 5, 6, 7, 10, 3, 7, 3, 4, 5, 5, 5, 3, 4, 4, 4, 2, 4, 7, 7, 2, 1, 9, 5, 5, 5, 2, 2, 2, 5, 3, 3, 3, 4, 4, 6, 10, 4, 5, 7, 2, 2, 5, 5, 5, 2, 5, 1, 3, 3, 7, 2, 4, 4, 6, 6, 4, 6, 3, 5, 5, 5, 2, 2, 2, 2, 2, 2, 3, 4, 5, 7, 7, 1, 2, 6, 4, 5, 5, 5, 3, 4, 4, 7, 10, 7, 5, 5, 5, 5, 2, 2, 2, 2, 4, 8, 8, 9, 4, 5, 2, 4, 9, 9, 11, 2, 2, 2, 2, 2]\n",
      "[0, 0, 0, 0, 0, 0, 0, 0, 0, 0, 0, 0, 0, 0, 0, 0, 1, 0, 0, 0, 0, 0, 0, 0, 0, 0, 0, 0, 0, 0, 0, 1, 1, 0, 1, 1, 0, 0, 0, 0, 0, 0, 0, 0, 0, 0, 0, 0, 0, 0, 0, 0, 0, 0, 0, 0, 0, 0, 1, 1, 0, 0, 0, 0, 0, 0, 0, 0, 0, 0, 0, 0, 0, 0, 0, 0, 0, 0, 0, 0, 0, 0, 0, 0, 0, 0, 0, 0, 0, 0, 0, 0, 0, 0, 0, 0, 0, 0, 0, 0, 1, 1, 0, 0, 0, 0, 0, 0, 0, 0, 0, 0, 0, 0, 0, 0, 0, 0, 0, 0, 0, 0, 0, 0, 0, 0, 0, 0, 0, 0, 0, 0, 0, 0, 0, 0, 0, 0, 0, 0, 0, 0, 0, 0, 0, 0, 0, 0, 0, 0, 0, 0, 0, 0, 0, 0, 0, 0, 0, 0, 0, 0, 0, 0, 0, 0, 0, 0, 0, 0, 0, 0, 0, 0, 0, 0, 0, 0, 0, 0, 0, 0, 0, 0, 0, 0, 0, 0, 0, 0, 0, 0, 0, 0, 0, 0, 0, 0, 0, 0, 0, 0, 0, 0, 0, 0, 0, 0, 0, 0, 0, 0, 0, 0, 0, 0, 0, 0, 0, 0, 0, 0, 0, 0, 0, 0, 0, 0, 0, 0, 0, 0, 0, 0, 0, 0, 0, 0, 0, 0, 0, 0, 0, 0, 0, 0, 0, 0, 0, 0, 0, 0, 0, 0, 0, 0, 0, 0, 0, 0, 0, 0, 0, 0, 0, 1, 1, 1, 0, 0, 0, 0, 0, 0]\n",
      "274\n",
      "274\n"
     ]
    }
   ],
   "source": [
    "#initiating the list to tap the counters.\n",
    "counter_list =[]\n",
    "counter_op_list =[]\n",
    "\n",
    "#for every item in unique_patient_ids: we can pull out patient_id, encounter_id, start and stop of encounter.(List of lists)\n",
    "for i in unique_patient_ids:\n",
    "    counter=0\n",
    "    counter_op=0\n",
    "    patient_id= i[0]\n",
    "    encounter_id= i[1]\n",
    "    start_e = i[2]\n",
    "    stop_e= i[3]\n",
    "\n",
    "    \n",
    "    for j in range(len(pat_encounter_med_df[pat_encounter_med_df['Id_P']==patient_id])):\n",
    "        if pd.isnull(pat_encounter_med_df.loc[j,\"START_M\"]) == True:\n",
    "            \n",
    "            counter=counter+0\n",
    "            \n",
    "        else:\n",
    "            \n",
    "            if pd.isnull(pat_encounter_med_df.loc[j,'STOP_M']== False):\n",
    "                \n",
    "                if pat_encounter_med_df.loc[j,\"START_M\"] <= start_e <= pat_encounter_med_df.loc[j,\"STOP_M\"]:\n",
    "                    counter =counter+1\n",
    "                    if pat_encounter_med_df.loc[j,\"DESCRIPTION_M\"] in ('Oxycodone-acetaminophen 100ML','Hydromorphone 325 MG','Fentanyl 100 MCG'):\n",
    "                        counter_op = counter_op+1\n",
    "                    else:\n",
    "                        counter_op=counter_op+0\n",
    "                    \n",
    "                else:\n",
    "                    counter =counter+0\n",
    "                \n",
    "            else:\n",
    "                \n",
    "                if pat_encounter_med_df.loc[j,\"START_M\"] <= start_e:\n",
    "                    counter = counter+1\n",
    "                    if pat_encounter_med_df.loc[j,\"DESCRIPTION_M\"] in ('Oxycodone-acetaminophen 100ML','Hydromorphone 325 MG','Fentanyl 100 MCG'):\n",
    "                        counter_op = counter_op+1\n",
    "                    else:\n",
    "                        counter_op =counter_op+0\n",
    "                                     \n",
    "                else:\n",
    "                    counter =counter+0    \n",
    "\n",
    "    counter_list.append(counter)\n",
    "    counter_op_list.append(counter_op)\n",
    "\n",
    "    \n",
    "#checking the tapped values.\n",
    "print(counter_list)\n",
    "print(counter_op_list)\n",
    "\n",
    "#checking the length of the lists\n",
    "\n",
    "print(len(counter_list))\n",
    "print(len(counter_op_list))\n",
    "    "
   ]
  },
  {
   "cell_type": "markdown",
   "id": "1e47c7de",
   "metadata": {},
   "source": [
    "<font color=green>Now we will go through the counter_op_list and create a new list that indicates whether there was an active opioid at the time of encounter</font>"
   ]
  },
  {
   "cell_type": "code",
   "execution_count": 25,
   "id": "ae753530",
   "metadata": {},
   "outputs": [
    {
     "name": "stdout",
     "output_type": "stream",
     "text": [
      "[0, 0, 0, 0, 0, 0, 0, 0, 0, 0, 0, 0, 0, 0, 0, 0, 1, 0, 0, 0, 0, 0, 0, 0, 0, 0, 0, 0, 0, 0, 0, 1, 1, 0, 1, 1, 0, 0, 0, 0, 0, 0, 0, 0, 0, 0, 0, 0, 0, 0, 0, 0, 0, 0, 0, 0, 0, 0, 1, 1, 0, 0, 0, 0, 0, 0, 0, 0, 0, 0, 0, 0, 0, 0, 0, 0, 0, 0, 0, 0, 0, 0, 0, 0, 0, 0, 0, 0, 0, 0, 0, 0, 0, 0, 0, 0, 0, 0, 0, 0, 1, 1, 0, 0, 0, 0, 0, 0, 0, 0, 0, 0, 0, 0, 0, 0, 0, 0, 0, 0, 0, 0, 0, 0, 0, 0, 0, 0, 0, 0, 0, 0, 0, 0, 0, 0, 0, 0, 0, 0, 0, 0, 0, 0, 0, 0, 0, 0, 0, 0, 0, 0, 0, 0, 0, 0, 0, 0, 0, 0, 0, 0, 0, 0, 0, 0, 0, 0, 0, 0, 0, 0, 0, 0, 0, 0, 0, 0, 0, 0, 0, 0, 0, 0, 0, 0, 0, 0, 0, 0, 0, 0, 0, 0, 0, 0, 0, 0, 0, 0, 0, 0, 0, 0, 0, 0, 0, 0, 0, 0, 0, 0, 0, 0, 0, 0, 0, 0, 0, 0, 0, 0, 0, 0, 0, 0, 0, 0, 0, 0, 0, 0, 0, 0, 0, 0, 0, 0, 0, 0, 0, 0, 0, 0, 0, 0, 0, 0, 0, 0, 0, 0, 0, 0, 0, 0, 0, 0, 0, 0, 0, 0, 0, 0, 0, 1, 1, 1, 0, 0, 0, 0, 0, 0]\n"
     ]
    }
   ],
   "source": [
    "op_ind_list=[]\n",
    "\n",
    "for i in counter_op_list: \n",
    "    if i>=1:\n",
    "        op_ind_list.append(1)\n",
    "    else:\n",
    "        op_ind_list.append(0)\n",
    "\n",
    "len(op_ind_list)\n",
    "print(op_ind_list)     \n",
    "        "
   ]
  },
  {
   "cell_type": "code",
   "execution_count": 26,
   "id": "7b29408f",
   "metadata": {},
   "outputs": [],
   "source": [
    "#assigning the values in the list to the appropriate columns for the cohort. \n",
    "for i in range(len(unique_patient_ids)):\n",
    "    patient_id= unique_patient_ids[i][0]\n",
    "    encounter_id= unique_patient_ids[i][1]\n",
    "    start_e = unique_patient_ids[i][2]\n",
    "    stop_e= unique_patient_ids[i][3]\n",
    "    \n",
    "    \n",
    "    df_index=pat_encounter_med_df.index[(pat_encounter_med_df['Id_P']== patient_id) & (pat_encounter_med_df['Id_E']== encounter_id)]\n",
    "    \n",
    "    \n",
    "    pat_encounter_med_df.loc[df_index,'COUNT_CURRENT_MEDS']= counter_list[i]\n",
    "    \n",
    "    pat_encounter_med_df.loc[df_index, 'CURRENT_OPIOID_IND']= op_ind_list[i]\n",
    "    \n",
    "    \n",
    "    \n",
    "    \n",
    "    "
   ]
  },
  {
   "cell_type": "code",
   "execution_count": 27,
   "id": "920631d4",
   "metadata": {},
   "outputs": [],
   "source": [
    "#coverting the datatype:\n",
    "pat_encounter_med_df['CURRENT_OPIOID_IND']=pat_encounter_med_df['CURRENT_OPIOID_IND'].astype('Int64')\n",
    "pat_encounter_med_df['COUNT_CURRENT_MEDS']=pat_encounter_med_df['COUNT_CURRENT_MEDS'].astype('Int64')"
   ]
  },
  {
   "cell_type": "code",
   "execution_count": 28,
   "id": "739d40b5",
   "metadata": {},
   "outputs": [
    {
     "data": {
      "text/plain": [
       "<NA>    427958\n",
       "0          262\n",
       "1           12\n",
       "Name: CURRENT_OPIOID_IND, dtype: Int64"
      ]
     },
     "execution_count": 28,
     "metadata": {},
     "output_type": "execute_result"
    }
   ],
   "source": [
    "pat_encounter_med_df['CURRENT_OPIOID_IND'].value_counts(dropna=False)"
   ]
  },
  {
   "cell_type": "code",
   "execution_count": 29,
   "id": "3325506f",
   "metadata": {},
   "outputs": [
    {
     "data": {
      "text/plain": [
       "<NA>    427958\n",
       "2           97\n",
       "5           42\n",
       "4           41\n",
       "3           24\n",
       "7           24\n",
       "6           13\n",
       "1            9\n",
       "8            7\n",
       "9            5\n",
       "0            4\n",
       "10           3\n",
       "11           2\n",
       "13           1\n",
       "15           1\n",
       "16           1\n",
       "Name: COUNT_CURRENT_MEDS, dtype: Int64"
      ]
     },
     "execution_count": 29,
     "metadata": {},
     "output_type": "execute_result"
    }
   ],
   "source": [
    "pat_encounter_med_df['COUNT_CURRENT_MEDS'].value_counts(dropna=False)"
   ]
  },
  {
   "cell_type": "markdown",
   "id": "3f09b25d",
   "metadata": {},
   "source": [
    "<font color=green>Indicating the readmission within 90 and 30 days.</font>"
   ]
  },
  {
   "cell_type": "code",
   "execution_count": 30,
   "id": "a1104801",
   "metadata": {},
   "outputs": [],
   "source": [
    "for i in unique_patient_ids:\n",
    "    patient_id= i[0]\n",
    "    encounter_id= i[1]\n",
    "    start_e = i[2]\n",
    "    stop_e= i[3]\n",
    "    \n",
    "    \n",
    "    list_index=pat_encounter_med_df.index[(pat_encounter_med_df['Id_P']== patient_id) & (pat_encounter_med_df['PROJECT_COHORT']== 1)].tolist()\n",
    "    \n",
    "    for j in range(len(list_index)-1):\n",
    "        \n",
    "        pat_encounter_med_df.loc[list_index[j],'START_E_N'] = pat_encounter_med_df.loc[list_index[j+1],'START_E']\n",
    "        \n",
    "     \n",
    "    \n",
    "    for k in list_index:\n",
    "        \n",
    "        if pd.isnull(pat_encounter_med_df.loc[k,'START_E_N'])== True:\n",
    "            \n",
    "            pat_encounter_med_df.loc[k,\"READMISSION_90_DAY_IND\"] = 0\n",
    "            \n",
    "            pat_encounter_med_df.loc[k,\"READMISSION_30_DAY_IND\"] = 0\n",
    "            \n",
    "        else:\n",
    "            \n",
    "            if (pat_encounter_med_df.loc[k,\"START_E_N\"]-pat_encounter_med_df.loc[k,'START_E']) <= np.timedelta64(90,'D'):\n",
    "                pat_encounter_med_df.loc[k,\"READMISSION_90_DAY_IND\"]= 1\n",
    "                pat_encounter_med_df.loc[k,\"FIRST_READMISSION_DATE\"]= pat_encounter_med_df.loc[k,\"START_E_N\"]\n",
    "                \n",
    "                if (pat_encounter_med_df.loc[k,\"START_E_N\"]-pat_encounter_med_df.loc[k,'START_E']) <= np.timedelta64(30,'D'):\n",
    "                    pat_encounter_med_df.loc[k,\"READMISSION_30_DAY_IND\"]= 1\n",
    "                    \n",
    "                else:\n",
    "                    \n",
    "                    pat_encounter_med_df.loc[k,\"READMISSION_30_DAY_IND\"]= 0\n",
    "        \n",
    "            else:\n",
    "                \n",
    "                pat_encounter_med_df.loc[k,\"READMISSION_90_DAY_IND\"]= 0\n",
    "                pat_encounter_med_df.loc[k,\"READMISSION_30_DAY_IND\"]= 0\n",
    "        \n",
    "        "
   ]
  },
  {
   "cell_type": "code",
   "execution_count": 31,
   "id": "107f9a8a",
   "metadata": {},
   "outputs": [],
   "source": [
    "pat_encounter_med_df['READMISSION_90_DAY_IND']=pat_encounter_med_df['READMISSION_90_DAY_IND'].astype('Int64')\n",
    "pat_encounter_med_df['READMISSION_30_DAY_IND']=pat_encounter_med_df['READMISSION_30_DAY_IND'].astype('Int64')\n",
    "pat_encounter_med_df['FIRST_READMISSION_DATE']= pd.to_datetime(pat_encounter_med_df['FIRST_READMISSION_DATE'], format= '%Y-%m-%d')"
   ]
  },
  {
   "cell_type": "code",
   "execution_count": 32,
   "id": "778fb2fb",
   "metadata": {},
   "outputs": [
    {
     "data": {
      "text/plain": [
       "<NA>    427958\n",
       "0          273\n",
       "1            1\n",
       "Name: READMISSION_90_DAY_IND, dtype: Int64"
      ]
     },
     "execution_count": 32,
     "metadata": {},
     "output_type": "execute_result"
    }
   ],
   "source": [
    "pat_encounter_med_df['READMISSION_90_DAY_IND'].value_counts(dropna=False)"
   ]
  },
  {
   "cell_type": "code",
   "execution_count": 33,
   "id": "6419287a",
   "metadata": {},
   "outputs": [
    {
     "data": {
      "text/plain": [
       "<NA>    427958\n",
       "0          274\n",
       "Name: READMISSION_30_DAY_IND, dtype: Int64"
      ]
     },
     "execution_count": 33,
     "metadata": {},
     "output_type": "execute_result"
    }
   ],
   "source": [
    "pat_encounter_med_df['READMISSION_30_DAY_IND'].value_counts(dropna=False)"
   ]
  },
  {
   "cell_type": "code",
   "execution_count": 34,
   "id": "eac22f65",
   "metadata": {},
   "outputs": [
    {
     "data": {
      "text/plain": [
       "NaT                    428231\n",
       "2017-09-10 23:21:25         1\n",
       "Name: FIRST_READMISSION_DATE, dtype: int64"
      ]
     },
     "execution_count": 34,
     "metadata": {},
     "output_type": "execute_result"
    }
   ],
   "source": [
    "pat_encounter_med_df['FIRST_READMISSION_DATE'].value_counts(dropna=False)"
   ]
  },
  {
   "cell_type": "code",
   "execution_count": 35,
   "id": "09f13868",
   "metadata": {},
   "outputs": [
    {
     "name": "stdout",
     "output_type": "stream",
     "text": [
      "<class 'pandas.core.frame.DataFrame'>\n",
      "Int64Index: 428232 entries, 0 to 428231\n",
      "Data columns (total 51 columns):\n",
      " #   Column                  Non-Null Count   Dtype         \n",
      "---  ------                  --------------   -----         \n",
      " 0   Id_E                    428232 non-null  object        \n",
      " 1   START_E                 428232 non-null  datetime64[ns]\n",
      " 2   STOP_E                  428232 non-null  datetime64[ns]\n",
      " 3   PATIENT_E               428232 non-null  object        \n",
      " 4   PROVIDER                428230 non-null  object        \n",
      " 5   ENCOUNTERCLASS          428232 non-null  object        \n",
      " 6   CODE_E                  428231 non-null  float64       \n",
      " 7   DESCRIPTION_E           428232 non-null  object        \n",
      " 8   COST_E                  428232 non-null  float64       \n",
      " 9   REASONCODE_E            140064 non-null  float64       \n",
      " 10  REASONDESCRIPTION_E     140064 non-null  object        \n",
      " 11  Id_P                    428232 non-null  object        \n",
      " 12  BIRTHDATE               428232 non-null  datetime64[ns]\n",
      " 13  DEATHDATE               107468 non-null  datetime64[ns]\n",
      " 14  SSN                     428232 non-null  object        \n",
      " 15  DRIVERS                 389126 non-null  object        \n",
      " 16  PASSPORT                372083 non-null  object        \n",
      " 17  PREFIX                  381015 non-null  object        \n",
      " 18  FIRST                   428232 non-null  object        \n",
      " 19  LAST                    428232 non-null  object        \n",
      " 20  SUFFIX                  2799 non-null    object        \n",
      " 21  MAIDEN                  157776 non-null  object        \n",
      " 22  MARITAL                 339867 non-null  object        \n",
      " 23  RACE                    428232 non-null  object        \n",
      " 24  ETHNICITY               428232 non-null  object        \n",
      " 25  GENDER                  428232 non-null  object        \n",
      " 26  BIRTHPLACE              428232 non-null  object        \n",
      " 27  ADDRESS                 428232 non-null  object        \n",
      " 28  CITY                    428232 non-null  object        \n",
      " 29  STATE                   428232 non-null  object        \n",
      " 30  ZIP                     248196 non-null  float64       \n",
      " 31  START_M                 111139 non-null  datetime64[ns]\n",
      " 32  STOP_M                  90990 non-null   datetime64[ns]\n",
      " 33  PATIENT_M               111139 non-null  object        \n",
      " 34  ENCOUNTER               111139 non-null  object        \n",
      " 35  CODE_M                  111139 non-null  float64       \n",
      " 36  DESCRIPTION_M           111139 non-null  object        \n",
      " 37  COST_M                  111139 non-null  float64       \n",
      " 38  DISPENSES               111139 non-null  float64       \n",
      " 39  TOTALCOST               111139 non-null  float64       \n",
      " 40  REASONCODE_M            72279 non-null   float64       \n",
      " 41  REASONDESCRIPTION_M     74647 non-null   object        \n",
      " 42  AGE                     428232 non-null  int64         \n",
      " 43  PROJECT_COHORT          428232 non-null  int64         \n",
      " 44  DEATH_AT_VISIT_IND      107468 non-null  Int64         \n",
      " 45  COUNT_CURRENT_MEDS      274 non-null     Int64         \n",
      " 46  CURRENT_OPIOID_IND      274 non-null     Int64         \n",
      " 47  START_E_N               120 non-null     datetime64[ns]\n",
      " 48  READMISSION_90_DAY_IND  274 non-null     Int64         \n",
      " 49  READMISSION_30_DAY_IND  274 non-null     Int64         \n",
      " 50  FIRST_READMISSION_DATE  1 non-null       datetime64[ns]\n",
      "dtypes: Int64(5), datetime64[ns](8), float64(9), int64(2), object(27)\n",
      "memory usage: 188.1+ MB\n"
     ]
    }
   ],
   "source": [
    "pat_encounter_med_df.info()"
   ]
  },
  {
   "cell_type": "code",
   "execution_count": 36,
   "id": "1248781e",
   "metadata": {},
   "outputs": [],
   "source": [
    "pat_encounter_med_df.rename(columns={'Id_P': 'PATIENT_ID', 'Id_E': 'ENCOUNTER_ID', 'START_E':'HOSPITAL_ENCOUNTER_DATE','AGE':'AGE_AT_VISIT'}, inplace=True)"
   ]
  },
  {
   "cell_type": "code",
   "execution_count": 37,
   "id": "0aec464a",
   "metadata": {},
   "outputs": [],
   "source": [
    "final_df= pat_encounter_med_df[['PATIENT_ID','ENCOUNTER_ID','HOSPITAL_ENCOUNTER_DATE','AGE_AT_VISIT','DEATH_AT_VISIT_IND','COUNT_CURRENT_MEDS','CURRENT_OPIOID_IND','READMISSION_90_DAY_IND','READMISSION_30_DAY_IND','FIRST_READMISSION_DATE']]"
   ]
  },
  {
   "cell_type": "code",
   "execution_count": 38,
   "id": "1a86a010",
   "metadata": {},
   "outputs": [
    {
     "name": "stdout",
     "output_type": "stream",
     "text": [
      "<class 'pandas.core.frame.DataFrame'>\n",
      "Int64Index: 428232 entries, 0 to 428231\n",
      "Data columns (total 10 columns):\n",
      " #   Column                   Non-Null Count   Dtype         \n",
      "---  ------                   --------------   -----         \n",
      " 0   PATIENT_ID               428232 non-null  object        \n",
      " 1   ENCOUNTER_ID             428232 non-null  object        \n",
      " 2   HOSPITAL_ENCOUNTER_DATE  428232 non-null  datetime64[ns]\n",
      " 3   AGE_AT_VISIT             428232 non-null  int64         \n",
      " 4   DEATH_AT_VISIT_IND       107468 non-null  Int64         \n",
      " 5   COUNT_CURRENT_MEDS       274 non-null     Int64         \n",
      " 6   CURRENT_OPIOID_IND       274 non-null     Int64         \n",
      " 7   READMISSION_90_DAY_IND   274 non-null     Int64         \n",
      " 8   READMISSION_30_DAY_IND   274 non-null     Int64         \n",
      " 9   FIRST_READMISSION_DATE   1 non-null       datetime64[ns]\n",
      "dtypes: Int64(5), datetime64[ns](2), int64(1), object(2)\n",
      "memory usage: 54.1+ MB\n"
     ]
    }
   ],
   "source": [
    "final_df.info()"
   ]
  },
  {
   "cell_type": "code",
   "execution_count": 39,
   "id": "51985a66",
   "metadata": {},
   "outputs": [],
   "source": [
    "#changing data types to the required format\n",
    "patient_id_series = pd.Series(final_df.PATIENT_ID, dtype=\"string\")\n",
    "encounter_id_series= pd.Series(final_df.ENCOUNTER_ID, dtype=\"string\")\n",
    "final_df=final_df.copy()"
   ]
  },
  {
   "cell_type": "code",
   "execution_count": 40,
   "id": "4d7a69ca",
   "metadata": {},
   "outputs": [],
   "source": [
    "final_df['PATIENT_ID'] = patient_id_series\n",
    "final_df['ENCOUNTER_ID'] = encounter_id_series"
   ]
  },
  {
   "cell_type": "code",
   "execution_count": 41,
   "id": "fbbe9d39",
   "metadata": {},
   "outputs": [
    {
     "name": "stdout",
     "output_type": "stream",
     "text": [
      "<class 'pandas.core.frame.DataFrame'>\n",
      "Int64Index: 428232 entries, 0 to 428231\n",
      "Data columns (total 10 columns):\n",
      " #   Column                   Non-Null Count   Dtype         \n",
      "---  ------                   --------------   -----         \n",
      " 0   PATIENT_ID               428232 non-null  string        \n",
      " 1   ENCOUNTER_ID             428232 non-null  string        \n",
      " 2   HOSPITAL_ENCOUNTER_DATE  428232 non-null  datetime64[ns]\n",
      " 3   AGE_AT_VISIT             428232 non-null  int64         \n",
      " 4   DEATH_AT_VISIT_IND       107468 non-null  Int64         \n",
      " 5   COUNT_CURRENT_MEDS       274 non-null     Int64         \n",
      " 6   CURRENT_OPIOID_IND       274 non-null     Int64         \n",
      " 7   READMISSION_90_DAY_IND   274 non-null     Int64         \n",
      " 8   READMISSION_30_DAY_IND   274 non-null     Int64         \n",
      " 9   FIRST_READMISSION_DATE   1 non-null       datetime64[ns]\n",
      "dtypes: Int64(5), datetime64[ns](2), int64(1), string(2)\n",
      "memory usage: 54.1 MB\n"
     ]
    }
   ],
   "source": [
    "final_df.info()"
   ]
  },
  {
   "cell_type": "code",
   "execution_count": 42,
   "id": "577adb3e",
   "metadata": {},
   "outputs": [],
   "source": [
    "#Exporting the dataframe to a csv file.\n",
    "output_path=os.getcwd()+'\\\\rithiksai_ponugoti.csv'\n",
    "final_df.to_csv(output_path,index=False)"
   ]
  }
 ],
 "metadata": {
  "kernelspec": {
   "display_name": "Python 3 (ipykernel)",
   "language": "python",
   "name": "python3"
  },
  "language_info": {
   "codemirror_mode": {
    "name": "ipython",
    "version": 3
   },
   "file_extension": ".py",
   "mimetype": "text/x-python",
   "name": "python",
   "nbconvert_exporter": "python",
   "pygments_lexer": "ipython3",
   "version": "3.9.12"
  }
 },
 "nbformat": 4,
 "nbformat_minor": 5
}
